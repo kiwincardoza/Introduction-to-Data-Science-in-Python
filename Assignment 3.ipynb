{
 "cells": [
  {
   "cell_type": "markdown",
   "metadata": {},
   "source": [
    "# Assignment 3 - More Pandas\n",
    "This assignment requires more individual learning then the last one did - you are encouraged to check out the [pandas documentation](http://pandas.pydata.org/pandas-docs/stable/) to find functions or methods you might not have used yet, or ask questions on [Stack Overflow](http://stackoverflow.com/) and tag them as pandas and python related. And of course, the discussion forums are open for interaction with your peers and the course staff.\n"
   ]
  },
  {
   "cell_type": "markdown",
   "metadata": {},
   "source": [
    "### Question 1 (20%)\n",
    "Load the energy data from the file `Energy Indicators.xls`, which is a list of indicators of [energy supply and renewable electricity production](Energy%20Indicators.xls) from the [United Nations](http://unstats.un.org/unsd/environment/excel_file_tables/2013/Energy%20Indicators.xls) for the year 2013, and should be put into a DataFrame with the variable name of **energy**.\n",
    "\n",
    "Keep in mind that this is an Excel file, and not a comma separated values file. Also, make sure to exclude the footer and header information from the datafile. The first two columns are unneccessary, so you should get rid of them, and you should change the column labels so that the columns are:\n",
    "\n",
    "`['Country', 'Energy Supply', 'Energy Supply per Capita', '% Renewable']`\n",
    "\n",
    "Convert `Energy Supply` to gigajoules (there are 1,000,000 gigajoules in a petajoule). For all countries which have missing data (e.g. data with \"...\") make sure this is reflected as `np.NaN` values.\n",
    "\n",
    "Rename the following list of countries (for use in later questions):\n",
    "\n",
    "```\"Republic of Korea\": \"South Korea\",\n",
    "\"United States of America\": \"United States\",\n",
    "\"United Kingdom of Great Britain and Northern Ireland\": \"United Kingdom\",\n",
    "\"China, Hong Kong Special Administrative Region\": \"Hong Kong\"```\n",
    "\n",
    "There are also several countries with numbers and/or parenthesis in their name. Be sure to remove these, \n",
    "\n",
    "e.g. \n",
    "\n",
    "`'Bolivia (Plurinational State of)'` should be `'Bolivia'`, \n",
    "\n",
    "`'Switzerland17'` should be `'Switzerland'`.\n",
    "\n",
    "<br>\n",
    "\n",
    "Next, load the GDP data from the file `world_bank.csv`, which is a csv containing countries' GDP from 1960 to 2015 from [World Bank](http://data.worldbank.org/indicator/NY.GDP.MKTP.CD). Call this DataFrame **GDP**. \n",
    "\n",
    "Make sure to skip the header, and rename the following list of countries:\n",
    "\n",
    "```\"Korea, Rep.\": \"South Korea\", \n",
    "\"Iran, Islamic Rep.\": \"Iran\",\n",
    "\"Hong Kong SAR, China\": \"Hong Kong\"```\n",
    "\n",
    "<br>\n",
    "\n",
    "Finally, load the [Sciamgo Journal and Country Rank data for Energy Engineering and Power Technology](http://www.scimagojr.com/countryrank.php?category=2102) from the file `scimagojr-3.xlsx`, which ranks countries based on their journal contributions in the aforementioned area. Call this DataFrame **ScimEn**.\n",
    "\n",
    "Join the three datasets: GDP, Energy, and ScimEn into a new dataset (using the intersection of country names). Use only the last 10 years (2006-2015) of GDP data and only the top 15 countries by Scimagojr 'Rank' (Rank 1 through 15). \n",
    "\n",
    "The index of this DataFrame should be the name of the country, and the columns should be ['Rank', 'Documents', 'Citable documents', 'Citations', 'Self-citations',\n",
    "       'Citations per document', 'H index', 'Energy Supply',\n",
    "       'Energy Supply per Capita', '% Renewable', '2006', '2007', '2008',\n",
    "       '2009', '2010', '2011', '2012', '2013', '2014', '2015'].\n",
    "\n",
    "*This function should return a DataFrame with 20 columns and 15 entries.*\n"
   ]
  },
  {
   "cell_type": "code",
   "execution_count": 1,
   "metadata": {},
   "outputs": [],
   "source": [
    "import numpy as np\n",
    "import pandas as pd\n",
    "\n",
    "def answer_one():\n",
    "    \n",
    "\n",
    "    energy = pd.read_excel(\"Energy Indicators.xls\")\n",
    "\n",
    "\n",
    "    list1 = [x for x in range(0,16)]\n",
    "    energy = energy.drop(list1)\n",
    "\n",
    "    list2 = [x for x in range(243,281)]\n",
    "    energy = energy.drop(list2)\n",
    "\n",
    "    energy = energy.drop(['Unnamed: 0','Unnamed: 1'], axis = 1)\n",
    "\n",
    "    energy.columns = ['Country', 'Energy Supply', 'Energy Supply per Capita', '% Renewable']\n",
    "\n",
    "\n",
    "\n",
    "    energy['Energy Supply'] = energy['Energy Supply'].replace('...',np.NaN)\n",
    "    energy['Energy Supply'] *= 1000000\n",
    "\n",
    "\n",
    "    energy.reset_index(inplace=True, drop=True)\n",
    "\n",
    "\n",
    "\n",
    "\n",
    "    number_countries = energy[energy['Country'].str.contains('[0-9]+', regex=True)]\n",
    "    number_values = number_countries['Country'].values\n",
    "    number_values = list(number_values)\n",
    "    num_values_dict = {}\n",
    "    for each_value in number_values:\n",
    "        res_val = ''.join([i for i in each_value if not i.isdigit()])\n",
    "        num_values_dict[each_value] = res_val\n",
    "\n",
    "    energy['Country'].replace(num_values_dict, inplace=True)\n",
    "\n",
    "    energy['Country'].replace('Republic of Korea', 'South Korea', inplace=True)\n",
    "    energy['Country'].replace(to_replace='United States of America', value='United States', inplace=True)\n",
    "    energy['Country'].replace('United Kingdom of Great Britain and Northern Ireland', 'United Kingdom', inplace=True)\n",
    "    energy['Country'].replace('China, Hong Kong Special Administrative Region', 'Hong Kong', inplace=True)\n",
    "\n",
    "\n",
    "\n",
    "    brackets_countries = energy[energy['Country'].str.contains('\\(([^)]+)\\)', regex=True)]\n",
    "    brackets_countries = brackets_countries['Country'].values\n",
    "    brackets_countries = list(brackets_countries)\n",
    "    brack_count_dict = {}\n",
    "    for each_value in brackets_countries:\n",
    "        val = each_value.find('(')\n",
    "        res_val = each_value[0:val-1]\n",
    "        brack_count_dict[each_value] = res_val\n",
    "\n",
    "    energy['Country'].replace(brack_count_dict, inplace=True)\n",
    "\n",
    "    GDP = pd.read_csv(\"world_bank.csv\")\n",
    "    GDP = GDP.drop([0,1,2])\n",
    "    GDP['Data Source'].replace('Korea, Rep.', 'South Korea', inplace=True)\n",
    "    GDP['Data Source'].replace('Iran, Islamic Rep.', 'Iran', inplace=True)\n",
    "    GDP['Data Source'].replace('Hong Kong SAR, China', 'Hong Kong', inplace=True)\n",
    "\n",
    "\n",
    "    ScimEn = pd.read_excel(\"scimagojr-3.xlsx\")\n",
    "    #ScimEn\n",
    "\n",
    "    orig_columns = list(GDP.loc[3].values)\n",
    "    GDP.columns = orig_columns\n",
    "    GDP = GDP.drop([3])\n",
    "    GDP = GDP.drop(GDP.columns[4:50], axis=1)\n",
    "    GDP.reset_index(drop=True,inplace=True)\n",
    "\n",
    "    GDP.rename(columns = {'Country Name':'Country'}, inplace=True)\n",
    "\n",
    "    ScimEn.drop([x for x in range(15,191)], inplace=True)\n",
    "\n",
    "    first_merge_df = pd.merge(energy,GDP,how='inner',left_on='Country',right_on='Country')\n",
    "    second_merge_df = pd.merge(first_merge_df,ScimEn,how='inner',left_on='Country',right_on='Country')\n",
    "\n",
    "    second_merge_df.drop(['Country Code','Indicator Name','Indicator Code'],axis=1,inplace=True)\n",
    "    second_merge_df.set_index('Country', inplace=True)\n",
    "\n",
    "    second_merge_df.rename(columns = {2006.0:'2006',2007.0:'2007',2008.0:'2008',2009.0:'2009',2010.0:'2010',2011.0:'2011',2012.0:'2012',2013.0:'2013',2014.0:'2014',2015.0:'2015'}, inplace=True)\n",
    "\n",
    "    second_merge_df = second_merge_df[['Rank', 'Documents', 'Citable documents', 'Citations', 'Self-citations', 'Citations per document', 'H index', 'Energy Supply', 'Energy Supply per Capita', '% Renewable', '2006', '2007', '2008', '2009', '2010', '2011', '2012', '2013', '2014', '2015']]\n",
    "    \n",
    "    second_merge_df['% Renewable'] = second_merge_df['% Renewable'].astype('float64')\n",
    "    second_merge_df['Energy Supply per Capita'] = second_merge_df['Energy Supply per Capita'].astype('float64')\n",
    "    \n",
    "    return second_merge_df\n"
   ]
  },
  {
   "cell_type": "markdown",
   "metadata": {},
   "source": [
    "### Question 2 (6.6%)\n",
    "The previous question joined three datasets then reduced this to just the top 15 entries. When you joined the datasets, but before you reduced this to the top 15 items, how many entries did you lose?\n",
    "\n",
    "*This function should return a single number.*\n"
   ]
  },
  {
   "cell_type": "code",
   "execution_count": 2,
   "metadata": {},
   "outputs": [],
   "source": [
    "#WRONG ANSWER\n",
    "\n",
    "def answer_two():\n",
    "    return 305"
   ]
  },
  {
   "cell_type": "markdown",
   "metadata": {},
   "source": [
    "## Answer the following questions in the context of only the top 15 countries by Scimagojr Rank (aka the DataFrame returned by `answer_one()`)\n",
    "\n",
    "### Question 3 (6.6%)\n",
    "What is the average GDP over the last 10 years for each country? (exclude missing values from this calculation.)\n",
    "\n",
    "*This function should return a Series named `avgGDP` with 15 countries and their average GDP sorted in descending order.*\n"
   ]
  },
  {
   "cell_type": "code",
   "execution_count": 3,
   "metadata": {},
   "outputs": [],
   "source": [
    "def answer_three():\n",
    "    Top15 = answer_one()\n",
    "    rows = ['2006','2007','2008','2009','2010','2011','2012','2013','2014','2015']\n",
    "    third = Top15.apply(lambda x: np.mean(x[rows]), axis=1)\n",
    "\n",
    "    third = third.sort_values(ascending=False)\n",
    "    third.name = 'avgGDP'\n",
    "    return third\n"
   ]
  },
  {
   "cell_type": "markdown",
   "metadata": {},
   "source": [
    "### Question 4 (6.6%)\n",
    "By how much had the GDP changed over the 10 year span for the country with the 6th largest average GDP?\n",
    "\n",
    "*This function should return a single number.*\n"
   ]
  },
  {
   "cell_type": "code",
   "execution_count": 4,
   "metadata": {},
   "outputs": [],
   "source": [
    "def answer_four():\n",
    "    Top15 = answer_one()\n",
    "    rows = ['2006','2007','2008','2009','2010','2011','2012','2013','2014','2015']\n",
    "    sixth_largest = Top15.apply(lambda x: np.mean(x[rows]), axis=1)\n",
    "\n",
    "    sixth_largest = sixth_largest.sort_values(ascending=False)\n",
    "    coun = sixth_largest.index.tolist()[5]\n",
    "\n",
    "    final_coun = Top15.loc[coun]\n",
    "    return (final_coun['2015'] - final_coun['2006'])\n"
   ]
  },
  {
   "cell_type": "markdown",
   "metadata": {},
   "source": [
    "### Question 5 (6.6%)\n",
    "What is the mean `Energy Supply per Capita`?\n",
    "\n",
    "*This function should return a single number.*\n"
   ]
  },
  {
   "cell_type": "code",
   "execution_count": 5,
   "metadata": {},
   "outputs": [],
   "source": [
    "def answer_five():\n",
    "    Top15 = answer_one()\n",
    "    return np.mean(Top15['Energy Supply per Capita'])\n"
   ]
  },
  {
   "cell_type": "markdown",
   "metadata": {},
   "source": [
    "### Question 6 (6.6%)\n",
    "What country has the maximum % Renewable and what is the percentage?\n",
    "\n",
    "*This function should return a tuple with the name of the country and the percentage.*\n"
   ]
  },
  {
   "cell_type": "code",
   "execution_count": 6,
   "metadata": {},
   "outputs": [],
   "source": [
    "def answer_six():\n",
    "    Top15 = answer_one()\n",
    "    max_percent = np.max(Top15['% Renewable'])\n",
    "    max_percent_country = (Top15[Top15['% Renewable'] == max_percent]).index.tolist()[0]\n",
    "    tuple1 = (max_percent_country, max_percent)\n",
    "    return tuple1\n"
   ]
  },
  {
   "cell_type": "markdown",
   "metadata": {},
   "source": [
    "### Question 7 (6.6%)\n",
    "Create a new column that is the ratio of Self-Citations to Total Citations. \n",
    "What is the maximum value for this new column, and what country has the highest ratio?\n",
    "\n",
    "*This function should return a tuple with the name of the country and the ratio.*\n"
   ]
  },
  {
   "cell_type": "code",
   "execution_count": 7,
   "metadata": {},
   "outputs": [],
   "source": [
    "def answer_seven():\n",
    "    Top15 = answer_one()\n",
    "    Top15['Ratio'] = Top15['Self-citations'] / Top15['Citations']\n",
    "    max_ratio = np.max(Top15['Ratio'])\n",
    "\n",
    "    max_ratio_country = (Top15[Top15['Ratio'] == max_ratio]).index.tolist()[0]\n",
    "    tuple2 = (max_ratio_country, max_ratio)\n",
    "    return tuple2\n"
   ]
  },
  {
   "cell_type": "markdown",
   "metadata": {},
   "source": [
    "### Question 8 (6.6%)\n",
    "\n",
    "Create a column that estimates the population using Energy Supply and Energy Supply per capita. \n",
    "What is the third most populous country according to this estimate?\n",
    "\n",
    "*This function should return a single string value.*\n"
   ]
  },
  {
   "cell_type": "code",
   "execution_count": 8,
   "metadata": {},
   "outputs": [],
   "source": [
    "def answer_eight():\n",
    "    Top15 = answer_one()\n",
    "    Top15['Population'] = Top15['Energy Supply'] / Top15['Energy Supply per Capita']\n",
    "    pop = Top15['Population']\n",
    "    pop = pop.sort_values(ascending=False)\n",
    "    return pop.index.tolist()[2]\n"
   ]
  },
  {
   "cell_type": "markdown",
   "metadata": {},
   "source": [
    "### Question 9 (6.6%)\n",
    "Create a column that estimates the number of citable documents per person. \n",
    "What is the correlation between the number of citable documents per capita and the energy supply per capita? Use the `.corr()` method, (Pearson's correlation).\n",
    "\n",
    "*This function should return a single number.*\n",
    "\n",
    "*(Optional: Use the built-in function `plot9()` to visualize the relationship between Energy Supply per Capita vs. Citable docs per Capita)*\n"
   ]
  },
  {
   "cell_type": "code",
   "execution_count": 9,
   "metadata": {},
   "outputs": [],
   "source": [
    "def answer_nine():\n",
    "    Top15 = answer_one()\n",
    "    Top15['PopEst'] = Top15['Energy Supply'] / Top15['Energy Supply per Capita']\n",
    "    Top15['Citable docs per Capita'] = Top15['Citable documents'] / Top15['PopEst']\n",
    "\n",
    "\n",
    "    new_df = pd.DataFrame([Top15['Energy Supply per Capita'],Top15['Citable docs per Capita']])\n",
    "\n",
    "    corr_df = new_df.T.corr(method=\"pearson\")\n",
    "    return corr_df['Energy Supply per Capita'].values[1]\n"
   ]
  },
  {
   "cell_type": "markdown",
   "metadata": {},
   "source": [
    "### Question 10 (6.6%)\n",
    "Create a new column with a 1 if the country's % Renewable value is at or above the median for all countries in the top 15, and a 0 if the country's % Renewable value is below the median.\n",
    "\n",
    "*This function should return a series named `HighRenew` whose index is the country name sorted in ascending order of rank.*\n"
   ]
  },
  {
   "cell_type": "code",
   "execution_count": 10,
   "metadata": {},
   "outputs": [],
   "source": [
    "def answer_ten():\n",
    "    Top15 = answer_one()\n",
    "    medi = np.median(Top15['% Renewable'])\n",
    "    Top15['HighRenew'] = 1\n",
    "    Top15_1 = Top15.where(Top15['% Renewable'] >= medi)\n",
    "    Top15_1 = Top15_1['HighRenew'].fillna(0)\n",
    "\n",
    "    Top15_1 = Top15_1.astype('int')\n",
    "    \n",
    "    Top15_2 = Top15['Rank']\n",
    "\n",
    "    joined = pd.DataFrame([Top15_1,Top15_2]).T\n",
    "\n",
    "    ordered_country = joined.sort_values(by='Rank')\n",
    "\n",
    "    ordered_country = ordered_country['HighRenew']\n",
    "\n",
    "    ordered_country.name = 'HighRenew'\n",
    "    \n",
    "   \n",
    "    return ordered_country\n"
   ]
  },
  {
   "cell_type": "markdown",
   "metadata": {},
   "source": [
    "### Question 11 (6.6%)\n",
    "Use the following dictionary to group the Countries by Continent, then create a dateframe that displays the sample size (the number of countries in each continent bin), and the sum, mean, and std deviation for the estimated population of each country.\n",
    "\n",
    "```python\n",
    "ContinentDict  = {'China':'Asia', \n",
    "                  'United States':'North America', \n",
    "                  'Japan':'Asia', \n",
    "                  'United Kingdom':'Europe', \n",
    "                  'Russian Federation':'Europe', \n",
    "                  'Canada':'North America', \n",
    "                  'Germany':'Europe', \n",
    "                  'India':'Asia',\n",
    "                  'France':'Europe', \n",
    "                  'South Korea':'Asia', \n",
    "                  'Italy':'Europe', \n",
    "                  'Spain':'Europe', \n",
    "                  'Iran':'Asia',\n",
    "                  'Australia':'Australia', \n",
    "                  'Brazil':'South America'}\n",
    "```\n",
    "\n",
    "*This function should return a DataFrame with index named Continent `['Asia', 'Australia', 'Europe', 'North America', 'South America']` and columns `['size', 'sum', 'mean', 'std']`*\n"
   ]
  },
  {
   "cell_type": "code",
   "execution_count": 11,
   "metadata": {},
   "outputs": [],
   "source": [
    "def answer_eleven():\n",
    "    Top15 = answer_one()\n",
    "    ContinentDict  = {'China':'Asia', \n",
    "                  'United States':'North America', \n",
    "                  'Japan':'Asia', \n",
    "                  'United Kingdom':'Europe', \n",
    "                  'Russian Federation':'Europe', \n",
    "                  'Canada':'North America', \n",
    "                  'Germany':'Europe', \n",
    "                  'India':'Asia',\n",
    "                  'France':'Europe', \n",
    "                  'South Korea':'Asia', \n",
    "                  'Italy':'Europe', \n",
    "                  'Spain':'Europe', \n",
    "                  'Iran':'Asia',\n",
    "                  'Australia':'Australia', \n",
    "                  'Brazil':'South America'}\n",
    "\n",
    "    \n",
    "    ind  = Top15.index.tolist()\n",
    "    ind\n",
    "    list1 = []\n",
    "    for each_ind in ind:\n",
    "        list1.append(ContinentDict[each_ind])\n",
    "\n",
    "    Top15['Continent'] = list1\n",
    "    Top15['Population'] = Top15['Energy Supply'] / Top15['Energy Supply per Capita']\n",
    "    Top15.reset_index(inplace=True)\n",
    "    res = Top15.groupby('Continent').agg({'Country':np.size, 'Population':[np.sum,np.mean,np.std]})\n",
    "    #Top15.groupby('Continent').agg(size=('Country','size'), sum=('Population','sum'))\n",
    "    res.columns = res.columns.droplevel()\n",
    "    return res\n"
   ]
  },
  {
   "cell_type": "markdown",
   "metadata": {},
   "source": [
    "### Question 12 (6.6%)\n",
    "Cut % Renewable into 5 bins. Group Top15 by the Continent, as well as these new % Renewable bins. How many countries are in each of these groups?\n",
    "\n",
    "*This function should return a __Series__ with a MultiIndex of `Continent`, then the bins for `% Renewable`. Do not include groups with no countries.*\n"
   ]
  },
  {
   "cell_type": "code",
   "execution_count": 12,
   "metadata": {},
   "outputs": [],
   "source": [
    "def answer_twelve():\n",
    "    Top15 = answer_one()\n",
    "    Top15['Bins'] = pd.cut(Top15['% Renewable'], 5)\n",
    "    Top15['Continent'] = list1\n",
    "    Top15.reset_index(inplace=True)\n",
    "    res_df = Top15.groupby(['Continent','Bins']).agg({'Country':np.size})\n",
    "    res_df.reset_index(inplace=True)\n",
    "\n",
    "    res_df.set_index(['Continent','Bins'], inplace=True)\n",
    "    ser_res = res_df['Country']\n",
    "\n",
    "    return ser_res\n"
   ]
  },
  {
   "cell_type": "markdown",
   "metadata": {},
   "source": [
    "### Question 13 (6.6%)\n",
    "Convert the Population Estimate series to a string with thousands separator (using commas). Do not round the results.\n",
    "\n",
    "e.g. 317615384.61538464 -> 317,615,384.61538464\n",
    "\n",
    "*This function should return a Series `PopEst` whose index is the country name and whose values are the population estimate string.*\n"
   ]
  },
  {
   "cell_type": "code",
   "execution_count": 13,
   "metadata": {},
   "outputs": [],
   "source": [
    "#WRONG ANSWER\n",
    "\n",
    "def answer_thirteen():\n",
    "    Top15 = answer_one()\n",
    "    Top15['PopEst'] = Top15['Energy Supply'] / Top15['Energy Supply per Capita']\n",
    "    popest = Top15['PopEst']\n",
    "    popest = popest.astype('str')\n",
    "\n",
    "    total_ele = len(popest.index)\n",
    "    for j in range(0,total_ele):\n",
    "        break_list = popest[j].split('.')\n",
    "        whole_num = break_list[0]\n",
    "        len1 = len(whole_num)\n",
    "        list2 = []\n",
    "        count = 0 \n",
    "        str2 = \"\"\n",
    "        for i in range(len1-1,-1,-1):\n",
    "            str2 += whole_num[i]\n",
    "            count += 1\n",
    "            if (count == 3):\n",
    "                count = 0\n",
    "                list2.append(str2)\n",
    "                str2 = \"\"\n",
    "\n",
    "        str2 = \"\"\n",
    "        if (count != 0):\n",
    "            for i in range (count-1,-1,-1):\n",
    "                str2 += whole_num[i]\n",
    "            list2.append(str2)\n",
    "\n",
    "        list2.reverse()\n",
    "\n",
    "        list3 = []\n",
    "        for each_ele in list2:\n",
    "            list3.append(each_ele[::-1])\n",
    "\n",
    "        whole_num_final = ','.join(list3)\n",
    "        whole_num_final += \".\" + break_list[1]\n",
    "\n",
    "        popest[j] = whole_num_final\n",
    "\n",
    "\n",
    "    return popest\n"
   ]
  },
  {
   "cell_type": "code",
   "execution_count": null,
   "metadata": {},
   "outputs": [],
   "source": []
  }
 ],
 "metadata": {
  "kernelspec": {
   "display_name": "Python 3",
   "language": "python",
   "name": "python3"
  },
  "language_info": {
   "codemirror_mode": {
    "name": "ipython",
    "version": 3
   },
   "file_extension": ".py",
   "mimetype": "text/x-python",
   "name": "python",
   "nbconvert_exporter": "python",
   "pygments_lexer": "ipython3",
   "version": "3.8.2"
  }
 },
 "nbformat": 4,
 "nbformat_minor": 4
}
